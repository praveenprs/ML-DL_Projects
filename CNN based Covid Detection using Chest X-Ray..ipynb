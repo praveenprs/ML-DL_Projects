{
 "cells": [
  {
   "cell_type": "markdown",
   "metadata": {
    "id": "Nq9xhqpy8IQz"
   },
   "source": [
    "## **CNN based Covid Detection using Chest X-Ray.**\n",
    "\n",
    "- Covid positive chest X-Ray images from https://github.com/ieee8023/covid-chestxray-dataset \n",
    "- Normal chest X-Ray images from Kaggle dataset https://www.kaggle.com/paultimothymooney/chest-xray-pneumonia \n",
    "- Here we have taken equal number of normal and covid positive images to build our CNN model."
   ]
  },
  {
   "cell_type": "code",
   "execution_count": 1,
   "metadata": {
    "colab": {
     "base_uri": "https://localhost:8080/"
    },
    "id": "UZ2UOyXYoyVV",
    "outputId": "112dfd96-95c0-4907-efa8-2654a48cabf0"
   },
   "outputs": [
    {
     "name": "stdout",
     "output_type": "stream",
     "text": [
      "--2021-08-20 13:49:45--  http://cb.lk/covid_19\n",
      "Resolving cb.lk (cb.lk)... 172.67.187.81, 104.21.72.203, 2606:4700:3032::ac43:bb51, ...\n",
      "Connecting to cb.lk (cb.lk)|172.67.187.81|:80... connected.\n",
      "HTTP request sent, awaiting response... 301 Moved Permanently\n",
      "Location: https://cb.lk/covid_19 [following]\n",
      "--2021-08-20 13:49:45--  https://cb.lk/covid_19\n",
      "Connecting to cb.lk (cb.lk)|172.67.187.81|:443... connected.\n",
      "HTTP request sent, awaiting response... 302 Found\n",
      "Location: https://www.dropbox.com/s/7rjw6oet4za01op/CovidDataset-20200427T133042Z-001.zip?dl=0 [following]\n",
      "--2021-08-20 13:49:45--  https://www.dropbox.com/s/7rjw6oet4za01op/CovidDataset-20200427T133042Z-001.zip?dl=0\n",
      "Resolving www.dropbox.com (www.dropbox.com)... 162.125.2.18, 2620:100:6027:18::a27d:4812\n",
      "Connecting to www.dropbox.com (www.dropbox.com)|162.125.2.18|:443... connected.\n",
      "HTTP request sent, awaiting response... 301 Moved Permanently\n",
      "Location: /s/raw/7rjw6oet4za01op/CovidDataset-20200427T133042Z-001.zip [following]\n",
      "--2021-08-20 13:49:46--  https://www.dropbox.com/s/raw/7rjw6oet4za01op/CovidDataset-20200427T133042Z-001.zip\n",
      "Reusing existing connection to www.dropbox.com:443.\n",
      "HTTP request sent, awaiting response... 302 Found\n",
      "Location: https://uc72fb33db4e0b352ff08e1daec0.dl.dropboxusercontent.com/cd/0/inline/BUnrsN4Vmohr6PNTb9tmteJhZETcCRuEjU4u7Xbi9hjkPL2IWsyhRSGlngMRnlWEYuyF6eh-JSD2ZL9Eg1DqFq5WDBjfnwNpmT1UGPuDL6qmVx2mWmSCodvSYFFXsFsEwPhVl3OoRLrxbOwklXid9aAu/file# [following]\n",
      "--2021-08-20 13:49:46--  https://uc72fb33db4e0b352ff08e1daec0.dl.dropboxusercontent.com/cd/0/inline/BUnrsN4Vmohr6PNTb9tmteJhZETcCRuEjU4u7Xbi9hjkPL2IWsyhRSGlngMRnlWEYuyF6eh-JSD2ZL9Eg1DqFq5WDBjfnwNpmT1UGPuDL6qmVx2mWmSCodvSYFFXsFsEwPhVl3OoRLrxbOwklXid9aAu/file\n",
      "Resolving uc72fb33db4e0b352ff08e1daec0.dl.dropboxusercontent.com (uc72fb33db4e0b352ff08e1daec0.dl.dropboxusercontent.com)... 162.125.65.15, 2620:100:6017:15::a27d:20f\n",
      "Connecting to uc72fb33db4e0b352ff08e1daec0.dl.dropboxusercontent.com (uc72fb33db4e0b352ff08e1daec0.dl.dropboxusercontent.com)|162.125.65.15|:443... connected.\n",
      "HTTP request sent, awaiting response... 302 Found\n",
      "Location: /cd/0/inline2/BUnDRlfLCp8Zel95-HWqLb7zCTyxVEOeiIhkyYe0CsGQzUXYo0JocHb1jnsGThYa-30seY17ULY04GXwyWcFCXjVBQ201_Pphy6TzNJd9d_BNpUhYqH2-Pm5Mx-GTlO4RDiewkoX23bwBUFPpabxEEsqVNblgMm88e5k55808J8YCrNcEuSAjhjqLUOZCZK1zSywIdFRd77pOQKuIMjdjuASnz7jzaIDIRP4UmIlADHJ1Hi5v_-ZD8jRtJ7ejtPm_5juUT7ksGKqnfqGwWYb2BfafKuUxxLkr_xF5GnUfTSipINXcQj-PAzlfDPZsG7Qjix78SB2tMBcr-iaP7nOIJBjt-nOAo080XpWS6NChzp7x1TCwNY76X-sosWUJPf481A/file [following]\n",
      "--2021-08-20 13:49:47--  https://uc72fb33db4e0b352ff08e1daec0.dl.dropboxusercontent.com/cd/0/inline2/BUnDRlfLCp8Zel95-HWqLb7zCTyxVEOeiIhkyYe0CsGQzUXYo0JocHb1jnsGThYa-30seY17ULY04GXwyWcFCXjVBQ201_Pphy6TzNJd9d_BNpUhYqH2-Pm5Mx-GTlO4RDiewkoX23bwBUFPpabxEEsqVNblgMm88e5k55808J8YCrNcEuSAjhjqLUOZCZK1zSywIdFRd77pOQKuIMjdjuASnz7jzaIDIRP4UmIlADHJ1Hi5v_-ZD8jRtJ7ejtPm_5juUT7ksGKqnfqGwWYb2BfafKuUxxLkr_xF5GnUfTSipINXcQj-PAzlfDPZsG7Qjix78SB2tMBcr-iaP7nOIJBjt-nOAo080XpWS6NChzp7x1TCwNY76X-sosWUJPf481A/file\n",
      "Reusing existing connection to uc72fb33db4e0b352ff08e1daec0.dl.dropboxusercontent.com:443.\n",
      "HTTP request sent, awaiting response... 200 OK\n",
      "Length: 140830621 (134M) [application/zip]\n",
      "Saving to: ‘covid_19’\n",
      "\n",
      "covid_19            100%[===================>] 134.31M  14.6MB/s    in 9.9s    \n",
      "\n",
      "2021-08-20 13:49:57 (13.5 MB/s) - ‘covid_19’ saved [140830621/140830621]\n",
      "\n"
     ]
    }
   ],
   "source": [
    "# importing data from dropbox\n",
    "!wget http://cb.lk/covid_19"
   ]
  },
  {
   "cell_type": "code",
   "execution_count": 2,
   "metadata": {
    "colab": {
     "base_uri": "https://localhost:8080/"
    },
    "id": "unK181-bo_G9",
    "outputId": "5419a2c1-e30b-453a-8429-50a5c9a6dda3"
   },
   "outputs": [
    {
     "name": "stdout",
     "output_type": "stream",
     "text": [
      "Archive:  covid_19\n",
      "  inflating: CovidDataset/Val/Covid/88de9d8c39e946abd495b37cd07d89e5-6531-0.jpg  \n",
      "  inflating: CovidDataset/Val/Covid/covid-19-pneumonia-8.jpg  \n",
      "  inflating: CovidDataset/Val/Covid/85E52EB3-56E9-4D67-82DA-DEA247C82886.jpeg  \n",
      "  inflating: CovidDataset/Val/Covid/4-x-day1.jpg  \n",
      "  inflating: CovidDataset/Val/Covid/covid-19-pneumonia-53.jpg  \n",
      "  inflating: CovidDataset/Val/Covid/4e43e48d52c9e2d4c6c1fb9bc1544f_jumbo.jpeg  \n",
      "  inflating: CovidDataset/Val/Covid/covid-19-pneumonia-35-1.jpg  \n",
      "  inflating: CovidDataset/Val/Covid/53EC07C9-5CC6-4BE4-9B6F-D7B0D72AAA7E.jpeg  \n",
      "  inflating: CovidDataset/Val/Covid/6CB4EFC6-68FA-4CD5-940C-BEFA8DAFE9A7.jpeg  \n",
      "  inflating: CovidDataset/Val/Covid/58cb9263f16e94305c730685358e4e_jumbo.jpeg  \n",
      "  inflating: CovidDataset/Val/Covid/6b3bdbc31f65230b8cdcc3cef5f8ba8a-40ac-0.jpg  \n",
      "  inflating: CovidDataset/Val/Covid/auntminnie-d-2020_01_28_23_51_6665_2020_01_28_Vietnam_coronavirus.jpeg  \n",
      "  inflating: CovidDataset/Val/Covid/6b44464d-73a7-4cf3-bbb6-ffe7168300e3.annot.original.jpeg  \n",
      "  inflating: CovidDataset/Val/Covid/88de9d8c39e946abd495b37cd07d89e5-2ee6-0.jpg  \n",
      "  inflating: CovidDataset/Val/Covid/31BA3780-2323-493F-8AED-62081B9C383B.jpeg  \n",
      "  inflating: CovidDataset/Val/Covid/B2D20576-00B7-4519-A415-72DE29C90C34.jpeg  \n",
      "  inflating: CovidDataset/Val/Covid/6C94A287-C059-46A0-8600-AFB95F4727B7.jpeg  \n",
      "  inflating: CovidDataset/Train/Covid/1-s2.0-S1684118220300682-main.pdf-003-b2.png  \n",
      "  inflating: CovidDataset/Val/Covid/41591_2020_819_Fig1_HTML.webp-day5.png  \n",
      "  inflating: CovidDataset/Val/Covid/41591_2020_819_Fig1_HTML.webp-day10.png  \n",
      "  inflating: CovidDataset/Train/Covid/1-s2.0-S1684118220300682-main.pdf-003-b1.png  \n",
      "  inflating: CovidDataset/Val/Covid/16654_2_1.jpg  \n",
      "  inflating: CovidDataset/Train/Covid/nCoV-radiol.2020200269.fig1-day7.jpeg  \n",
      "  inflating: CovidDataset/Val/Covid/auntminnie-c-2020_01_28_23_51_6665_2020_01_28_Vietnam_coronavirus.jpeg  \n",
      "  inflating: CovidDataset/Train/Covid/7-fatal-covid19.jpg  \n",
      "  inflating: CovidDataset/Train/Covid/auntminnie-b-2020_01_28_23_51_6665_2020_01_28_Vietnam_coronavirus.jpeg  \n",
      "  inflating: CovidDataset/Train/Normal/NORMAL2-IM-0986-0001.jpeg  \n",
      "  inflating: CovidDataset/Train/Normal/IM-0332-0001.jpeg  \n",
      "  inflating: CovidDataset/Train/Covid/extubation-13.jpg  \n",
      "  inflating: CovidDataset/Val/Covid/covid-19-pneumonia-35-2.jpg  \n",
      "  inflating: CovidDataset/Train/Normal/NORMAL2-IM-1337-0001.jpeg  \n",
      "  inflating: CovidDataset/Val/Covid/covid-19-pneumonia-12.jpg  \n",
      "  inflating: CovidDataset/Train/Normal/IM-0644-0001-0002.jpeg  \n",
      "  inflating: CovidDataset/Train/Covid/ryct.2020200034.fig5-day7.jpeg  \n",
      "  inflating: CovidDataset/Val/Covid/7AF6C1AF-D249-4BD2-8C26-449304105D03.jpeg  \n",
      "  inflating: CovidDataset/Train/Covid/covid-19-pneumonia-15-PA.jpg  \n",
      "  inflating: CovidDataset/Train/Covid/1-s2.0-S1684118220300608-main.pdf-002.jpg  \n",
      "  inflating: CovidDataset/Train/Normal/IM-0528-0001.jpeg  \n",
      "  inflating: CovidDataset/Train/Covid/80446565-E090-4187-A031-9D3CEAA586C8.jpeg  \n",
      "  inflating: CovidDataset/Train/Covid/1-s2.0-S0929664620300449-gr2_lrg-d.jpg  \n",
      "  inflating: CovidDataset/Train/Covid/covid-19-pneumonia-bilateral.jpg  \n",
      "  inflating: CovidDataset/Train/Normal/NORMAL2-IM-1020-0001-0001.jpeg  \n",
      "  inflating: CovidDataset/Train/Covid/E63574A7-4188-4C8D-8D17-9D67A18A1AFA.jpeg  \n",
      "  inflating: CovidDataset/Train/Normal/IM-0327-0001.jpeg  \n",
      "  inflating: CovidDataset/Train/Covid/AR-1.jpg  \n",
      "  inflating: CovidDataset/Train/Covid/F2DE909F-E19C-4900-92F5-8F435B031AC6.jpeg  \n",
      "  inflating: CovidDataset/Val/Normal/NORMAL2-IM-0851-0001.jpeg  \n",
      "  inflating: CovidDataset/Train/Covid/covid-19-pneumonia-2.jpg  \n",
      "  inflating: CovidDataset/Train/Normal/IM-0539-0001.jpeg  \n",
      "  inflating: CovidDataset/Train/Normal/IM-0495-0001.jpeg  \n",
      "  inflating: CovidDataset/Train/Normal/IM-0533-0001-0002.jpeg  \n",
      "  inflating: CovidDataset/Train/Normal/IM-0724-0001.jpeg  \n",
      "  inflating: CovidDataset/Train/Covid/1.CXRCTThoraximagesofCOVID-19fromSingapore.pdf-001-fig2a.png  \n",
      "  inflating: CovidDataset/Train/Covid/1-s2.0-S0140673620303706-fx1_lrg.jpg  \n",
      "  inflating: CovidDataset/Train/Normal/IM-0491-0001-0002.jpeg  \n",
      "  inflating: CovidDataset/Train/Covid/covid-19-pneumonia-58-day-9.jpg  \n",
      "  inflating: CovidDataset/Train/Normal/IM-0555-0001.jpeg  \n",
      "  inflating: CovidDataset/Train/Covid/1.CXRCTThoraximagesofCOVID-19fromSingapore.pdf-000-fig1b.png  \n",
      "  inflating: CovidDataset/Train/Normal/IM-0326-0001.jpeg  \n",
      "  inflating: CovidDataset/Train/Covid/covid-19-caso-70-1-PA.jpg  \n",
      "  inflating: CovidDataset/Train/Covid/1.CXRCTThoraximagesofCOVID-19fromSingapore.pdf-001-fig2b.png  \n",
      "  inflating: CovidDataset/Val/Normal/NORMAL2-IM-0730-0001.jpeg  \n",
      "  inflating: CovidDataset/Train/Normal/IM-0451-0001.jpeg  \n",
      "  inflating: CovidDataset/Val/Covid/7C69C012-7479-493F-8722-ABC29C60A2DD.jpeg  \n",
      "  inflating: CovidDataset/Train/Covid/16660_2_1.jpg  \n",
      "  inflating: CovidDataset/Train/Covid/1-s2.0-S1684118220300608-main.pdf-001.jpg  \n",
      "  inflating: CovidDataset/Train/Covid/kjr-21-e24-g003-l-a.jpg  \n",
      "  inflating: CovidDataset/Train/Covid/nejmoa2001191_f1-PA.jpeg  \n",
      "  inflating: CovidDataset/Train/Normal/IM-0534-0001.jpeg  \n",
      "  inflating: CovidDataset/Train/Covid/kjr-21-e24-g002-l-a.jpg  \n",
      "  inflating: CovidDataset/Train/Covid/covid-19-pneumonia-38-pa.jpg  \n",
      "  inflating: CovidDataset/Train/Normal/NORMAL2-IM-0529-0001.jpeg  \n",
      "  inflating: CovidDataset/Train/Covid/9C34AF49-E589-44D5-92D3-168B3B04E4A6.jpeg  \n",
      "  inflating: CovidDataset/Train/Normal/IM-0221-0001.jpeg  \n",
      "  inflating: CovidDataset/Val/Normal/NORMAL2-IM-1191-0001.jpeg  \n",
      "  inflating: CovidDataset/Train/Normal/NORMAL2-IM-0831-0001.jpeg  \n",
      "  inflating: CovidDataset/Train/Normal/IM-0500-0001.jpeg  \n",
      "  inflating: CovidDataset/Val/Normal/NORMAL2-IM-1228-0001.jpeg  \n",
      "  inflating: CovidDataset/Train/Covid/extubation-1.jpg  \n",
      "  inflating: CovidDataset/Train/Covid/covid-19-infection-exclusive-gastrointestinal-symptoms-l.png  \n",
      "  inflating: CovidDataset/Val/Normal/NORMAL2-IM-1037-0001.jpeg  \n",
      "  inflating: CovidDataset/Train/Normal/NORMAL2-IM-0956-0001.jpeg  \n",
      "  inflating: CovidDataset/Train/Normal/NORMAL2-IM-0847-0001.jpeg  \n",
      "  inflating: CovidDataset/Train/Normal/IM-0389-0001.jpeg  \n",
      "  inflating: CovidDataset/Train/Normal/IM-0660-0001-0001.jpeg  \n",
      "  inflating: CovidDataset/Train/Covid/16672_1_1.jpg  \n",
      "  inflating: CovidDataset/Train/Normal/IM-0700-0001.jpeg  \n",
      "  inflating: CovidDataset/Train/Normal/NORMAL2-IM-1305-0001.jpeg  \n",
      "  inflating: CovidDataset/Train/Covid/16660_4_1.jpg  \n",
      "  inflating: CovidDataset/Val/Covid/353889E0-A1E8-4F9E-A0B8-F24F36BCFBFB.jpeg  \n",
      "  inflating: CovidDataset/Train/Covid/covid-19-pneumonia-22-day2-pa.png  \n",
      "  inflating: CovidDataset/Train/Normal/IM-0472-0001.jpeg  \n",
      "  inflating: CovidDataset/Train/Normal/NORMAL2-IM-1202-0001.jpeg  \n",
      "  inflating: CovidDataset/Train/Normal/NORMAL2-IM-1188-0001.jpeg  \n",
      "  inflating: CovidDataset/Train/Covid/2C26F453-AF3B-4517-BB9E-802CF2179543.jpeg  \n",
      "  inflating: CovidDataset/Train/Normal/NORMAL2-IM-1290-0001.jpeg  \n",
      "  inflating: CovidDataset/Train/Normal/NORMAL2-IM-1346-0001.jpeg  \n",
      "  inflating: CovidDataset/Train/Normal/NORMAL2-IM-1345-0001-0001.jpeg  \n",
      "  inflating: CovidDataset/Train/Covid/radiol.2020200274.fig3d.png  \n",
      "  inflating: CovidDataset/Train/Normal/IM-0669-0001.jpeg  \n",
      "  inflating: CovidDataset/Train/Normal/IM-0270-0001.jpeg  \n",
      "  inflating: CovidDataset/Train/Covid/covid-19-pneumonia-28.png  \n",
      "  inflating: CovidDataset/Train/Covid/ryct.2020200034.fig2.jpeg  \n",
      "  inflating: CovidDataset/Train/Normal/NORMAL2-IM-1287-0001.jpeg  \n",
      "  inflating: CovidDataset/Train/Covid/1.CXRCTThoraximagesofCOVID-19fromSingapore.pdf-000-fig1a.png  \n",
      "  inflating: CovidDataset/Train/Normal/NORMAL2-IM-0626-0001.jpeg  \n",
      "  inflating: CovidDataset/Train/Normal/IM-0543-0001.jpeg  \n",
      "  inflating: CovidDataset/Val/Normal/NORMAL2-IM-0857-0001.jpeg  \n",
      "  inflating: CovidDataset/Val/Normal/NORMAL2-IM-0905-0001.jpeg  \n",
      "  inflating: CovidDataset/Train/Covid/1-s2.0-S0929664620300449-gr2_lrg-a.jpg  \n",
      "  inflating: CovidDataset/Val/Covid/16654_1_1.png  \n",
      "  inflating: CovidDataset/Train/Covid/kjr-21-e24-g001-l-a.jpg  \n",
      "  inflating: CovidDataset/Train/Normal/IM-0433-0001.jpeg  \n",
      "  inflating: CovidDataset/Train/Covid/covid-19-pneumonia-58-day-10.jpg  \n",
      "  inflating: CovidDataset/Val/Covid/16654_4_1.jpg  \n",
      "  inflating: CovidDataset/Val/Normal/NORMAL2-IM-0790-0001.jpeg  \n",
      "  inflating: CovidDataset/Train/Normal/NORMAL2-IM-1326-0001.jpeg  \n",
      "  inflating: CovidDataset/Train/Normal/IM-0563-0001.jpeg  \n",
      "  inflating: CovidDataset/Train/Covid/ae6c954c0039de4b5edee53865ffee43-e6c8-0.jpg  \n",
      "  inflating: CovidDataset/Val/Covid/23E99E2E-447C-46E5-8EB2-D35D12473C39.png  \n",
      "  inflating: CovidDataset/Train/Covid/gr1_lrg-a.jpg  \n",
      "  inflating: CovidDataset/Train/Normal/IM-0564-0001.jpeg  \n",
      "  inflating: CovidDataset/Train/Normal/NORMAL2-IM-0499-0001.jpeg  \n",
      "  inflating: CovidDataset/Train/Covid/16663_1_1.jpg  \n",
      "  inflating: CovidDataset/Train/Covid/extubation-8.jpg  \n",
      "  inflating: CovidDataset/Train/Covid/paving.jpg  \n",
      "  inflating: CovidDataset/Train/Normal/IM-0529-0001.jpeg  \n",
      "  inflating: CovidDataset/Train/Normal/IM-0425-0001.jpeg  \n",
      "  inflating: CovidDataset/Train/Normal/IM-0439-0001.jpeg  \n",
      "  inflating: CovidDataset/Train/Normal/IM-0491-0001.jpeg  \n",
      "  inflating: CovidDataset/Train/Normal/IM-0337-0001.jpeg  \n",
      "  inflating: CovidDataset/Train/Covid/all14238-fig-0001-m-b.jpg  \n",
      "  inflating: CovidDataset/Train/Covid/covid-19-infection-exclusive-gastrointestinal-symptoms-pa.png  \n",
      "  inflating: CovidDataset/Train/Normal/NORMAL2-IM-1320-0001.jpeg  \n",
      "  inflating: CovidDataset/Train/Covid/1.CXRCTThoraximagesofCOVID-19fromSingapore.pdf-002-fig3b.png  \n",
      "  inflating: CovidDataset/Train/Normal/NORMAL2-IM-0815-0001.jpeg  \n",
      "  inflating: CovidDataset/Train/Covid/nejmoa2001191_f5-PA.jpeg  \n",
      "  inflating: CovidDataset/Train/Normal/NORMAL2-IM-1336-0001.jpeg  \n",
      "  inflating: CovidDataset/Train/Normal/IM-0369-0001.jpeg  \n",
      "  inflating: CovidDataset/Train/Normal/NORMAL2-IM-1300-0001.jpeg  \n",
      "  inflating: CovidDataset/Train/Normal/NORMAL2-IM-1295-0001.jpeg  \n",
      "  inflating: CovidDataset/Train/Normal/NORMAL2-IM-0518-0001.jpeg  \n",
      "  inflating: CovidDataset/Train/Covid/covid-19-pneumonia-34.png  \n",
      "  inflating: CovidDataset/Train/Normal/IM-0385-0001.jpeg  \n",
      "  inflating: CovidDataset/Train/Covid/F63AB6CE-1968-4154-A70F-913AF154F53D.jpeg  \n",
      "  inflating: CovidDataset/Val/Normal/NORMAL2-IM-0842-0001.jpeg  \n",
      "  inflating: CovidDataset/Val/Normal/NORMAL2-IM-0416-0001-0001.jpeg  \n",
      "  inflating: CovidDataset/Val/Normal/NORMAL2-IM-1275-0001.jpeg  \n",
      "  inflating: CovidDataset/Train/Normal/IM-0467-0001.jpeg  \n",
      "  inflating: CovidDataset/Train/Normal/NORMAL2-IM-1344-0001.jpeg  \n",
      "  inflating: CovidDataset/Train/Normal/IM-0301-0001.jpeg  \n",
      "  inflating: CovidDataset/Train/Normal/IM-0421-0001.jpeg  \n",
      "  inflating: CovidDataset/Train/Covid/ryct.2020200034.fig5-day0.jpeg  \n",
      "  inflating: CovidDataset/Train/Covid/covid-19-pneumonia-58-day-3.jpg  \n",
      "  inflating: CovidDataset/Train/Covid/covid-19-pneumonia-mild.JPG  \n",
      "  inflating: CovidDataset/Val/Normal/NORMAL2-IM-0859-0001.jpeg  \n",
      "  inflating: CovidDataset/Val/Normal/NORMAL2-IM-1237-0001.jpeg  \n",
      "  inflating: CovidDataset/Train/Normal/NORMAL2-IM-1103-0001-0001.jpeg  \n",
      "  inflating: CovidDataset/Train/Covid/1-s2.0-S1684118220300682-main.pdf-002-a2.png  \n",
      "  inflating: CovidDataset/Val/Normal/NORMAL2-IM-0535-0001-0002.jpeg  \n",
      "  inflating: CovidDataset/Train/Covid/1.CXRCTThoraximagesofCOVID-19fromSingapore.pdf-003-fig4b.png  \n",
      "  inflating: CovidDataset/Train/Normal/IM-0461-0001.jpeg  \n",
      "  inflating: CovidDataset/Train/Normal/IM-0372-0001.jpeg  \n",
      "  inflating: CovidDataset/Train/Normal/IM-0666-0001-0001.jpeg  \n",
      "  inflating: CovidDataset/Train/Normal/NORMAL2-IM-0840-0001.jpeg  \n",
      "  inflating: CovidDataset/Train/Covid/ryct.2020200034.fig5-day4.jpeg  \n",
      "  inflating: CovidDataset/Train/Normal/NORMAL2-IM-0798-0001.jpeg  \n",
      "  inflating: CovidDataset/Train/Normal/IM-0351-0001.jpeg  \n",
      "  inflating: CovidDataset/Train/Covid/auntminnie-a-2020_01_28_23_51_6665_2020_01_28_Vietnam_coronavirus.jpeg  \n",
      "  inflating: CovidDataset/Train/Covid/1-s2.0-S1684118220300682-main.pdf-002-a1.png  \n",
      "  inflating: CovidDataset/Val/Normal/NORMAL2-IM-1240-0001.jpeg  \n",
      "  inflating: CovidDataset/Train/Covid/93FE0BB1-022D-4F24-9727-987A07975FFB.jpeg  \n",
      "  inflating: CovidDataset/Train/Covid/16660_1_1.jpg  \n",
      "  inflating: CovidDataset/Train/Covid/figure1-5e71be566aa8714a04de3386-98-left.jpeg  \n",
      "  inflating: CovidDataset/Train/Normal/IM-0703-0001.jpeg  \n",
      "  inflating: CovidDataset/Train/Covid/covid-19-pneumonia-7-PA.jpg  \n",
      "  inflating: CovidDataset/Train/Normal/NORMAL2-IM-1277-0001-0002.jpeg  \n",
      "  inflating: CovidDataset/Train/Covid/8FDE8DBA-CFBD-4B4C-B1A4-6F36A93B7E87.jpeg  \n",
      "  inflating: CovidDataset/Train/Normal/IM-0482-0001.jpeg  \n",
      "  inflating: CovidDataset/Train/Normal/IM-0656-0001-0002.jpeg  \n",
      "  inflating: CovidDataset/Train/Covid/16664_1_1.jpg  \n",
      "  inflating: CovidDataset/Train/Normal/IM-0430-0001.jpeg  \n",
      "  inflating: CovidDataset/Train/Covid/covid-19-pneumonia-67.jpeg  \n",
      "  inflating: CovidDataset/Train/Covid/ciaa199.pdf-001-a.png  \n",
      "  inflating: CovidDataset/Train/Normal/IM-0187-0001.jpeg  \n",
      "  inflating: CovidDataset/Val/Normal/NORMAL2-IM-0652-0001.jpeg  \n",
      "  inflating: CovidDataset/Train/Normal/IM-0691-0001.jpeg  \n",
      "  inflating: CovidDataset/Train/Covid/CD50BA96-6982-4C80-AE7B-5F67ACDBFA56.jpeg  \n",
      "  inflating: CovidDataset/Train/Normal/NORMAL2-IM-0976-0001.jpeg  \n",
      "  inflating: CovidDataset/Train/Covid/covid-19-pneumonia-20-pa-on-admission.jpg  \n",
      "  inflating: CovidDataset/Train/Covid/1-s2.0-S0929664620300449-gr2_lrg-c.jpg  \n",
      "  inflating: CovidDataset/Train/Covid/fff49165-b22d-4bb4-b9d1-d5d62c52436c.annot.original.png  \n",
      "  inflating: CovidDataset/Train/Covid/1.CXRCTThoraximagesofCOVID-19fromSingapore.pdf-002-fig3a.png  \n",
      "  inflating: CovidDataset/Val/Normal/NORMAL2-IM-0395-0001.jpeg  \n",
      "  inflating: CovidDataset/Train/Normal/IM-0182-0001.jpeg  \n",
      "  inflating: CovidDataset/Train/Covid/covid-19-pneumonia-evolution-over-a-week-1-day0-PA.jpg  \n",
      "  inflating: CovidDataset/Val/Normal/NORMAL2-IM-0914-0001.jpeg  \n",
      "  inflating: CovidDataset/Train/Covid/covid-19-pneumonia-30-PA.jpg  \n",
      "  inflating: CovidDataset/Train/Covid/nejmc2001573_f1a.jpeg  \n",
      "  inflating: CovidDataset/Train/Covid/kjr-21-e25-g001-l-a.jpg  \n",
      "  inflating: CovidDataset/Val/Normal/NORMAL2-IM-0873-0001.jpeg  \n",
      "  inflating: CovidDataset/Train/Normal/NORMAL2-IM-0501-0001.jpeg  \n",
      "  inflating: CovidDataset/Train/Normal/IM-0667-0001.jpeg  \n",
      "  inflating: CovidDataset/Train/Normal/IM-0551-0001-0002.jpeg  \n",
      "  inflating: CovidDataset/Train/Normal/IM-0176-0001.jpeg  \n",
      "  inflating: CovidDataset/Train/Covid/lancet-case2b.jpg  \n",
      "  inflating: CovidDataset/Train/Normal/IM-0713-0001.jpeg  \n",
      "  inflating: CovidDataset/Train/Covid/all14238-fig-0001-m-c.jpg  \n",
      "  inflating: CovidDataset/Val/Covid/covid-19-pneumonia-14-PA.png  \n",
      "  inflating: CovidDataset/Val/Normal/NORMAL2-IM-0851-0001-0001.jpeg  \n",
      "  inflating: CovidDataset/Train/Normal/NORMAL2-IM-1154-0001-0002.jpeg  \n",
      "  inflating: CovidDataset/Train/Normal/IM-0619-0001.jpeg  \n",
      "  inflating: CovidDataset/Val/Normal/NORMAL2-IM-0441-0001.jpeg  \n",
      "  inflating: CovidDataset/Val/Normal/NORMAL2-IM-0765-0001.jpeg  \n",
      "  inflating: CovidDataset/Train/Normal/IM-0172-0001.jpeg  \n",
      "  inflating: CovidDataset/Train/Normal/IM-0551-0001-0001.jpeg  \n",
      "  inflating: CovidDataset/Train/Covid/gr1_lrg-b.jpg  \n",
      "  inflating: CovidDataset/Train/Covid/1-s2.0-S0929664620300449-gr2_lrg-b.jpg  \n",
      "  inflating: CovidDataset/Train/Normal/IM-0514-0001.jpeg  \n",
      "  inflating: CovidDataset/Train/Covid/covid-19-pneumonia-20.jpg  \n",
      "  inflating: CovidDataset/Train/Normal/IM-0544-0001.jpeg  \n",
      "  inflating: CovidDataset/Val/Normal/NORMAL2-IM-1022-0001.jpeg  \n",
      "  inflating: CovidDataset/Train/Normal/NORMAL2-IM-0935-0001.jpeg  \n",
      "  inflating: CovidDataset/Train/Covid/covid-19-pneumonia-22-day1-pa.png  \n",
      "  inflating: CovidDataset/Train/Normal/NORMAL2-IM-1288-0001.jpeg  \n",
      "  inflating: CovidDataset/Train/Covid/16669_1_1.jpeg  \n",
      "  inflating: CovidDataset/Train/Covid/nejmoa2001191_f4.jpeg  \n",
      "  inflating: CovidDataset/Val/Normal/NORMAL2-IM-0462-0001.jpeg  \n",
      "  inflating: CovidDataset/Val/Normal/NORMAL2-IM-0894-0001.jpeg  \n",
      "  inflating: CovidDataset/Train/Covid/nejmc2001573_f1b.jpeg  \n",
      "  inflating: CovidDataset/Train/Normal/NORMAL2-IM-1094-0001-0001.jpeg  \n",
      "  inflating: CovidDataset/Train/Normal/IM-0543-0001-0002.jpeg  \n",
      "  inflating: CovidDataset/Train/Covid/16669_3_1.jpeg  \n",
      "  inflating: CovidDataset/Train/Covid/covid-19-pneumonia-58-day-7.jpg  \n",
      "  inflating: CovidDataset/Train/Normal/IM-0536-0001.jpeg  \n",
      "  inflating: CovidDataset/Train/Normal/NORMAL2-IM-1214-0001.jpeg  \n",
      "  inflating: CovidDataset/Train/Covid/AR-2.jpg  \n",
      "  inflating: CovidDataset/Train/Covid/9fdd3c3032296fd04d2cad5d9070d4_jumbo.jpeg  \n",
      "  inflating: CovidDataset/Train/Covid/1B734A89-A1BF-49A8-A1D3-66FAFA4FAC5D.jpeg  \n",
      "  inflating: CovidDataset/Train/Normal/IM-0156-0001.jpeg  \n",
      "  inflating: CovidDataset/Train/Normal/NORMAL2-IM-1111-0001.jpeg  \n",
      "  inflating: CovidDataset/Train/Covid/FE9F9A5D-2830-46F9-851B-1FF4534959BE.jpeg  \n",
      "  inflating: CovidDataset/Train/Normal/IM-0429-0001.jpeg  \n",
      "  inflating: CovidDataset/Train/Covid/covid-19-pneumonia-44-day-0.jpeg  \n",
      "  inflating: CovidDataset/Val/Normal/NORMAL2-IM-0869-0001.jpeg  \n",
      "  inflating: CovidDataset/Train/Covid/figure1-5e75d0940b71e1b702629659-98-right.jpeg  \n",
      "  inflating: CovidDataset/Train/Covid/03BF7561-A9BA-4C3C-B8A0-D3E585F73F3C.jpeg  \n",
      "  inflating: CovidDataset/Train/Covid/ciaa199.pdf-001-c.png  \n",
      "  inflating: CovidDataset/Train/Covid/extubation-4.jpg  \n",
      "  inflating: CovidDataset/Train/Normal/IM-0556-0001.jpeg  \n",
      "  inflating: CovidDataset/Train/Covid/1.CXRCTThoraximagesofCOVID-19fromSingapore.pdf-003-fig4a.png  \n",
      "  inflating: CovidDataset/Train/Covid/covid-19-pneumonia-19.jpg  \n",
      "  inflating: CovidDataset/Train/Normal/IM-0392-0001.jpeg  \n",
      "  inflating: CovidDataset/Train/Normal/IM-0530-0001.jpeg  \n",
      "  inflating: CovidDataset/Train/Normal/IM-0261-0001.jpeg  \n",
      "  inflating: CovidDataset/Train/Covid/1312A392-67A3-4EBF-9319-810CF6DA5EF6.jpeg  \n",
      "  inflating: CovidDataset/Train/Normal/IM-0525-0001.jpeg  \n",
      "  inflating: CovidDataset/Train/Covid/lancet-case2a.jpg  \n",
      "  inflating: CovidDataset/Train/Covid/ciaa199.pdf-001-b.png  \n",
      "  inflating: CovidDataset/Train/Normal/NORMAL2-IM-0941-0001.jpeg  \n",
      "  inflating: CovidDataset/Train/Normal/IM-0488-0001.jpeg  \n",
      "  inflating: CovidDataset/Train/Covid/nejmoa2001191_f3-PA.jpeg  \n",
      "  inflating: CovidDataset/Train/Normal/IM-0447-0001.jpeg  \n",
      "  inflating: CovidDataset/Train/Covid/2966893D-5DDF-4B68-9E2B-4979D5956C8E.jpeg  \n",
      "  inflating: CovidDataset/Train/Covid/ryct.2020200028.fig1a.jpeg  \n",
      "  inflating: CovidDataset/Train/Normal/IM-0688-0001.jpeg  \n",
      "  inflating: CovidDataset/Train/Covid/16660_3_1.jpg  \n",
      "  inflating: CovidDataset/Val/Normal/NORMAL2-IM-1045-0001.jpeg  \n",
      "  inflating: CovidDataset/Train/Normal/NORMAL2-IM-0978-0001.jpeg  \n",
      "  inflating: CovidDataset/Train/Covid/2-chest-filmc.jpg  \n",
      "  inflating: CovidDataset/Val/Normal/NORMAL2-IM-0678-0001.jpeg  \n",
      "  inflating: CovidDataset/Train/Normal/NORMAL2-IM-0573-0001.jpeg  \n",
      "  inflating: CovidDataset/Train/Normal/IM-0365-0001.jpeg  \n",
      "  inflating: CovidDataset/Train/Normal/IM-0300-0001.jpeg  \n",
      "  inflating: CovidDataset/Train/Normal/IM-0242-0001.jpeg  \n",
      "  inflating: CovidDataset/Train/Covid/F4341CE7-73C9-45C6-99C8-8567A5484B63.jpeg  \n",
      "  inflating: CovidDataset/Train/Normal/NORMAL2-IM-1019-0001.jpeg  \n",
      "  inflating: CovidDataset/Train/Covid/01E392EE-69F9-4E33-BFCE-E5C968654078.jpeg  \n",
      "  inflating: CovidDataset/Train/Normal/IM-0648-0001.jpeg  \n",
      "  inflating: CovidDataset/Val/Normal/NORMAL2-IM-0408-0001.jpeg  \n",
      "  inflating: CovidDataset/Train/Covid/yxppt-2020-02-19_00-51-27_287214-day8.jpg  \n",
      "  inflating: CovidDataset/Train/Normal/IM-0635-0001.jpeg  \n",
      "  inflating: CovidDataset/Train/Covid/radiol.2020200490.fig3.jpeg  \n",
      "  inflating: CovidDataset/Val/Normal/NORMAL2-IM-1060-0001.jpeg  \n"
     ]
    }
   ],
   "source": [
    "!unzip covid_19"
   ]
  },
  {
   "cell_type": "code",
   "execution_count": 3,
   "metadata": {
    "id": "Zj0IU1TBpzu5"
   },
   "outputs": [],
   "source": [
    "# Creating file paths.\n",
    "TRAIN_PATH='CovidDataset/Train'\n",
    "VALID_PATH='CovidDataset/Val'"
   ]
  },
  {
   "cell_type": "code",
   "execution_count": 4,
   "metadata": {
    "id": "vqT8GExrqRfD"
   },
   "outputs": [],
   "source": [
    "# importing required libraries.\n",
    "import numpy as np\n",
    "import matplotlib.pyplot as plt\n",
    "import seaborn as sns\n",
    "from sklearn.metrics import confusion_matrix\n",
    "import os\n",
    "import keras\n",
    "from keras.layers import *\n",
    "from keras.preprocessing import image\n",
    "from keras.models import *"
   ]
  },
  {
   "cell_type": "code",
   "execution_count": 5,
   "metadata": {
    "id": "ZZY8cWMKqpu1"
   },
   "outputs": [],
   "source": [
    "# Building CNN models\n",
    "model = Sequential()\n",
    "model.add(Conv2D(32,kernel_size=(3,3),activation='relu',input_shape=(224,224,3)))\n",
    "model.add(Conv2D(64,kernel_size=(3,3),activation='relu'))\n",
    "model.add(MaxPooling2D(pool_size=(2,2)))\n",
    "model.add(Dropout(0.25))\n",
    "\n",
    "model.add(Conv2D(64,kernel_size=(3,3),activation='relu'))\n",
    "model.add(MaxPooling2D(pool_size=(2,2)))\n",
    "model.add(Dropout(0.25))\n",
    "\n",
    "model.add(Conv2D(128,kernel_size=(3,3),activation='relu'))\n",
    "model.add(MaxPooling2D(pool_size=(2,2)))\n",
    "model.add(Dropout(0.25))\n",
    "\n",
    "model.add(Flatten())\n",
    "model.add(Dense(64,activation='relu'))\n",
    "model.add(Dropout(0.5))\n",
    "model.add(Dense(1,activation='sigmoid'))\n",
    "\n",
    "model.compile(loss=keras.losses.binary_crossentropy,optimizer='adam',metrics=['accuracy'])\n"
   ]
  },
  {
   "cell_type": "code",
   "execution_count": 6,
   "metadata": {
    "colab": {
     "base_uri": "https://localhost:8080/"
    },
    "id": "7hJMoqFWsveR",
    "outputId": "304968fe-d267-401c-cb6d-42445978a5e3"
   },
   "outputs": [
    {
     "name": "stdout",
     "output_type": "stream",
     "text": [
      "Model: \"sequential\"\n",
      "_________________________________________________________________\n",
      "Layer (type)                 Output Shape              Param #   \n",
      "=================================================================\n",
      "conv2d (Conv2D)              (None, 222, 222, 32)      896       \n",
      "_________________________________________________________________\n",
      "conv2d_1 (Conv2D)            (None, 220, 220, 64)      18496     \n",
      "_________________________________________________________________\n",
      "max_pooling2d (MaxPooling2D) (None, 110, 110, 64)      0         \n",
      "_________________________________________________________________\n",
      "dropout (Dropout)            (None, 110, 110, 64)      0         \n",
      "_________________________________________________________________\n",
      "conv2d_2 (Conv2D)            (None, 108, 108, 64)      36928     \n",
      "_________________________________________________________________\n",
      "max_pooling2d_1 (MaxPooling2 (None, 54, 54, 64)        0         \n",
      "_________________________________________________________________\n",
      "dropout_1 (Dropout)          (None, 54, 54, 64)        0         \n",
      "_________________________________________________________________\n",
      "conv2d_3 (Conv2D)            (None, 52, 52, 128)       73856     \n",
      "_________________________________________________________________\n",
      "max_pooling2d_2 (MaxPooling2 (None, 26, 26, 128)       0         \n",
      "_________________________________________________________________\n",
      "dropout_2 (Dropout)          (None, 26, 26, 128)       0         \n",
      "_________________________________________________________________\n",
      "flatten (Flatten)            (None, 86528)             0         \n",
      "_________________________________________________________________\n",
      "dense (Dense)                (None, 64)                5537856   \n",
      "_________________________________________________________________\n",
      "dropout_3 (Dropout)          (None, 64)                0         \n",
      "_________________________________________________________________\n",
      "dense_1 (Dense)              (None, 1)                 65        \n",
      "=================================================================\n",
      "Total params: 5,668,097\n",
      "Trainable params: 5,668,097\n",
      "Non-trainable params: 0\n",
      "_________________________________________________________________\n"
     ]
    }
   ],
   "source": [
    "model.summary()"
   ]
  },
  {
   "cell_type": "code",
   "execution_count": 7,
   "metadata": {
    "id": "_sLQF5Z8s1aU"
   },
   "outputs": [],
   "source": [
    "# training the model : Augmentation\n",
    "train_datagen=image.ImageDataGenerator(\n",
    "    rescale=1./255,\n",
    "    shear_range=0.2,\n",
    "    zoom_range=0.2,\n",
    "    horizontal_flip=True\n",
    ")\n",
    "\n",
    "test_dataset=image.ImageDataGenerator(rescale=1./255)\n"
   ]
  },
  {
   "cell_type": "code",
   "execution_count": 8,
   "metadata": {
    "colab": {
     "base_uri": "https://localhost:8080/"
    },
    "id": "8sr6Bh7hunTI",
    "outputId": "5b5e6832-8a21-4386-91c7-5a513d47976e"
   },
   "outputs": [
    {
     "name": "stdout",
     "output_type": "stream",
     "text": [
      "Found 224 images belonging to 2 classes.\n"
     ]
    }
   ],
   "source": [
    "train_generator=train_datagen.flow_from_directory(\n",
    "    'CovidDataset/Train',\n",
    "    target_size=(224,224),\n",
    "    batch_size=32,\n",
    "    class_mode='binary'\n",
    ")"
   ]
  },
  {
   "cell_type": "code",
   "execution_count": 9,
   "metadata": {
    "colab": {
     "base_uri": "https://localhost:8080/"
    },
    "id": "xdPjnMtqvRLb",
    "outputId": "da65b747-3dd8-4963-8d4b-4e351c124484"
   },
   "outputs": [
    {
     "data": {
      "text/plain": [
       "{'Covid': 0, 'Normal': 1}"
      ]
     },
     "execution_count": 9,
     "metadata": {},
     "output_type": "execute_result"
    }
   ],
   "source": [
    "train_generator.class_indices"
   ]
  },
  {
   "cell_type": "code",
   "execution_count": 10,
   "metadata": {
    "colab": {
     "base_uri": "https://localhost:8080/"
    },
    "id": "sNEUF_pevfYX",
    "outputId": "641b4d45-4628-4822-f911-9312a33bdbd8"
   },
   "outputs": [
    {
     "name": "stdout",
     "output_type": "stream",
     "text": [
      "Found 60 images belonging to 2 classes.\n"
     ]
    }
   ],
   "source": [
    "validation_generator=test_dataset.flow_from_directory(\n",
    "    'CovidDataset/Val',\n",
    "    target_size=(224,224),\n",
    "    batch_size=32,\n",
    "    class_mode='binary'\n",
    ")"
   ]
  },
  {
   "cell_type": "code",
   "execution_count": 12,
   "metadata": {
    "colab": {
     "base_uri": "https://localhost:8080/"
    },
    "id": "cf16DhARv6ev",
    "outputId": "06fa7ef4-6e0b-4746-ef6c-53c7ce34e6f3"
   },
   "outputs": [
    {
     "name": "stdout",
     "output_type": "stream",
     "text": [
      "Epoch 1/20\n",
      "7/7 [==============================] - 11s 2s/step - loss: 1.1603 - accuracy: 0.6027 - val_loss: 0.6817 - val_accuracy: 0.5000\n",
      "Epoch 2/20\n",
      "7/7 [==============================] - 9s 1s/step - loss: 0.6438 - accuracy: 0.5982 - val_loss: 0.6125 - val_accuracy: 0.7500\n",
      "Epoch 3/20\n",
      "7/7 [==============================] - 9s 1s/step - loss: 0.4957 - accuracy: 0.7321 - val_loss: 0.4376 - val_accuracy: 0.9500\n",
      "Epoch 4/20\n",
      "7/7 [==============================] - 8s 1s/step - loss: 0.3301 - accuracy: 0.8393 - val_loss: 0.2411 - val_accuracy: 0.9500\n",
      "Epoch 5/20\n",
      "7/7 [==============================] - 9s 1s/step - loss: 0.3998 - accuracy: 0.8438 - val_loss: 0.3175 - val_accuracy: 0.9667\n",
      "Epoch 6/20\n",
      "7/7 [==============================] - 9s 1s/step - loss: 0.3064 - accuracy: 0.8705 - val_loss: 0.1919 - val_accuracy: 0.9833\n",
      "Epoch 7/20\n",
      "7/7 [==============================] - 9s 1s/step - loss: 0.2293 - accuracy: 0.9018 - val_loss: 0.1332 - val_accuracy: 0.9667\n",
      "Epoch 8/20\n",
      "7/7 [==============================] - 9s 1s/step - loss: 0.1313 - accuracy: 0.9554 - val_loss: 0.1652 - val_accuracy: 0.9667\n",
      "Epoch 9/20\n",
      "7/7 [==============================] - 9s 1s/step - loss: 0.1672 - accuracy: 0.9688 - val_loss: 0.0651 - val_accuracy: 0.9833\n",
      "Epoch 10/20\n",
      "7/7 [==============================] - 9s 1s/step - loss: 0.1339 - accuracy: 0.9509 - val_loss: 0.0685 - val_accuracy: 0.9833\n",
      "Epoch 11/20\n",
      "7/7 [==============================] - 9s 1s/step - loss: 0.1453 - accuracy: 0.9554 - val_loss: 0.0924 - val_accuracy: 0.9667\n",
      "Epoch 12/20\n",
      "7/7 [==============================] - 9s 1s/step - loss: 0.1250 - accuracy: 0.9688 - val_loss: 0.0632 - val_accuracy: 0.9667\n",
      "Epoch 13/20\n",
      "7/7 [==============================] - 9s 1s/step - loss: 0.1045 - accuracy: 0.9554 - val_loss: 0.0701 - val_accuracy: 0.9833\n",
      "Epoch 14/20\n",
      "7/7 [==============================] - 9s 1s/step - loss: 0.2015 - accuracy: 0.9196 - val_loss: 0.1559 - val_accuracy: 0.9667\n",
      "Epoch 15/20\n",
      "7/7 [==============================] - 9s 1s/step - loss: 0.2068 - accuracy: 0.9286 - val_loss: 0.1265 - val_accuracy: 0.9667\n",
      "Epoch 16/20\n",
      "7/7 [==============================] - 9s 1s/step - loss: 0.1635 - accuracy: 0.9688 - val_loss: 0.0633 - val_accuracy: 0.9667\n",
      "Epoch 17/20\n",
      "7/7 [==============================] - 9s 1s/step - loss: 0.1732 - accuracy: 0.9375 - val_loss: 0.0661 - val_accuracy: 0.9667\n",
      "Epoch 18/20\n",
      "7/7 [==============================] - 9s 1s/step - loss: 0.2098 - accuracy: 0.9241 - val_loss: 0.1137 - val_accuracy: 0.9667\n",
      "Epoch 19/20\n",
      "7/7 [==============================] - 9s 1s/step - loss: 0.1365 - accuracy: 0.9554 - val_loss: 0.0912 - val_accuracy: 0.9667\n",
      "Epoch 20/20\n",
      "7/7 [==============================] - 9s 1s/step - loss: 0.1519 - accuracy: 0.9330 - val_loss: 0.0896 - val_accuracy: 0.9667\n"
     ]
    }
   ],
   "source": [
    "# fitting the model.\n",
    "hist = model.fit(\n",
    "    train_generator,\n",
    "    #steps_per_epoch=8,\n",
    "    epochs=20,\n",
    "    validation_data=validation_generator,\n",
    "    validation_steps=2\n",
    ")"
   ]
  },
  {
   "cell_type": "code",
   "execution_count": 13,
   "metadata": {
    "id": "BcJ1dG6v2w_L"
   },
   "outputs": [],
   "source": [
    "model.save('CovidDetector.h5')"
   ]
  },
  {
   "cell_type": "code",
   "execution_count": 14,
   "metadata": {
    "colab": {
     "base_uri": "https://localhost:8080/"
    },
    "id": "Xhk2E-k9w0wh",
    "outputId": "153e6f65-2ed8-4c69-9e0b-3f991569d03d"
   },
   "outputs": [
    {
     "name": "stdout",
     "output_type": "stream",
     "text": [
      "7/7 [==============================] - 7s 957ms/step - loss: 0.1321 - accuracy: 0.9464\n"
     ]
    },
    {
     "data": {
      "text/plain": [
       "[0.1320997029542923, 0.9464285969734192]"
      ]
     },
     "execution_count": 14,
     "metadata": {},
     "output_type": "execute_result"
    }
   ],
   "source": [
    "model.evaluate(train_generator)"
   ]
  },
  {
   "cell_type": "code",
   "execution_count": 15,
   "metadata": {
    "colab": {
     "base_uri": "https://localhost:8080/"
    },
    "id": "JUB6_wAz1-PE",
    "outputId": "a13d7fbc-9191-462f-a3f6-fac5c3246c79"
   },
   "outputs": [
    {
     "name": "stdout",
     "output_type": "stream",
     "text": [
      "2/2 [==============================] - 2s 837ms/step - loss: 0.0896 - accuracy: 0.9667\n"
     ]
    },
    {
     "data": {
      "text/plain": [
       "[0.0896487757563591, 0.9666666388511658]"
      ]
     },
     "execution_count": 15,
     "metadata": {},
     "output_type": "execute_result"
    }
   ],
   "source": [
    "model.evaluate(validation_generator)"
   ]
  },
  {
   "cell_type": "code",
   "execution_count": 16,
   "metadata": {
    "id": "A5CrHQ3w2RFg"
   },
   "outputs": [],
   "source": [
    "model=load_model('CovidDetector.h5')"
   ]
  },
  {
   "cell_type": "code",
   "execution_count": 17,
   "metadata": {
    "colab": {
     "base_uri": "https://localhost:8080/"
    },
    "id": "xO6WTUd-3K7O",
    "outputId": "f6a97367-61be-48b6-9ada-1043909bfd86"
   },
   "outputs": [
    {
     "data": {
      "text/plain": [
       "{'Covid': 0, 'Normal': 1}"
      ]
     },
     "execution_count": 17,
     "metadata": {},
     "output_type": "execute_result"
    }
   ],
   "source": [
    "train_generator.class_indices"
   ]
  },
  {
   "cell_type": "code",
   "execution_count": 18,
   "metadata": {
    "id": "a7YCUyon3Vk_"
   },
   "outputs": [],
   "source": [
    "y_actual,y_test=[],[]"
   ]
  },
  {
   "cell_type": "code",
   "execution_count": 19,
   "metadata": {
    "id": "phTkhOY73cUn"
   },
   "outputs": [],
   "source": [
    "for i in os.listdir('./CovidDataset/Val/Normal/'):\n",
    "  img=image.load_img('./CovidDataset/Val/Normal/'+i, target_size=(224,224))\n",
    "  img=image.img_to_array(img)\n",
    "  img=np.expand_dims(img,axis=0)\n",
    "  p=model.predict(img)\n",
    "  y_test.append(p[0,0])\n",
    "  y_actual.append(1)"
   ]
  },
  {
   "cell_type": "code",
   "execution_count": 20,
   "metadata": {
    "id": "V5XX3GXi4mFk"
   },
   "outputs": [],
   "source": [
    "for i in os.listdir('./CovidDataset/Val/Covid/'):\n",
    "  img=image.load_img('./CovidDataset/Val/Covid/'+i, target_size=(224,224))\n",
    "  img=image.img_to_array(img)\n",
    "  img=np.expand_dims(img,axis=0)\n",
    "  p=model.predict(img)\n",
    "  y_test.append(p[0,0])\n",
    "  y_actual.append(0)"
   ]
  },
  {
   "cell_type": "code",
   "execution_count": 21,
   "metadata": {
    "id": "uygRPrpM5iqN"
   },
   "outputs": [],
   "source": [
    "y_actual=np.array(y_actual)\n",
    "y_test=np.array(y_test)"
   ]
  },
  {
   "cell_type": "code",
   "execution_count": 27,
   "metadata": {
    "id": "w12fjMeC5xIv"
   },
   "outputs": [],
   "source": [
    "# confusion matrix\n",
    "conf_matrix=confusion_matrix(y_actual,y_test)"
   ]
  },
  {
   "cell_type": "code",
   "execution_count": 28,
   "metadata": {
    "colab": {
     "base_uri": "https://localhost:8080/",
     "height": 269
    },
    "id": "qkj7TSBM6d6R",
    "outputId": "764abbce-3b1d-4543-ae3a-fbc426ad81df"
   },
   "outputs": [
    {
     "data": {
      "image/png": "[encoded data removed]",
      "text/plain": [
       "<Figure size 432x288 with 2 Axes>"
      ]
     },
     "metadata": {
      "needs_background": "light"
     },
     "output_type": "display_data"
    }
   ],
   "source": [
    "sns.heatmap(conf_matrix,annot=True,cmap=\"YlGnBu\")\n",
    "plt.show()"
   ]
  },
  {
   "cell_type": "code",
   "execution_count": 29,
   "metadata": {
    "colab": {
     "base_uri": "https://localhost:8080/"
    },
    "id": "cmxetEWFBrJO",
    "outputId": "ba4b4847-c436-4f2b-f88f-ea2de5968167"
   },
   "outputs": [
    {
     "name": "stdout",
     "output_type": "stream",
     "text": [
      "sensitivity = 0.933333\n",
      "specificity = 1.000000\n"
     ]
    }
   ],
   "source": [
    "# sensitivity and specificity for validation data.\n",
    "sensitivity_train=conf_matrix[1,1]/(conf_matrix[1,0]+conf_matrix[1,1])\n",
    "print('sensitivity = %f'%sensitivity_train)\n",
    "specificity_train=conf_matrix[0,0]/(conf_matrix[0,1]+conf_matrix[0,0])\n",
    "print('specificity = %f'%specificity_train)"
   ]
  },
  {
   "cell_type": "markdown",
   "metadata": {
    "id": "TA_hBXirBfVG"
   },
   "source": [
    "## **Conclusion.**\n",
    "- **As we can see our model has achieved `100%` specificity which indicates all the covid positive cases were detected correctly.**\n",
    "- **Also the sensitivity is `93.33%` where two normal cases were detected as covid positive.**\n",
    "- **As per our problem statement here requires high value of specificity which implies that it is crucial to detect covid positive cases correctly but we can compromise little bit on sensitivity where a normal case is detected as covid positive.**"
   ]
  }
 ],
 "metadata": {
  "accelerator": "GPU",
  "colab": {
   "name": "Covid_19 Detector",
   "provenance": []
  },
  "kernelspec": {
   "display_name": "Python 3",
   "language": "python",
   "name": "python3"
  },
  "language_info": {
   "codemirror_mode": {
    "name": "ipython",
    "version": 3
   },
   "file_extension": ".py",
   "mimetype": "text/x-python",
   "name": "python",
   "nbconvert_exporter": "python",
   "pygments_lexer": "ipython3",
   "version": "3.8.5"
  }
 },
 "nbformat": 4,
 "nbformat_minor": 1
}
